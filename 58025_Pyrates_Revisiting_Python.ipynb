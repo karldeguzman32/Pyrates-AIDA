{
  "nbformat": 4,
  "nbformat_minor": 0,
  "metadata": {
    "colab": {
      "name": "58025_Pyrates_Revisiting Python",
      "provenance": [],
      "collapsed_sections": [],
      "toc_visible": true,
      "include_colab_link": true
    },
    "kernelspec": {
      "name": "python3",
      "display_name": "Python 3"
    }
  },
  "cells": [
    {
      "cell_type": "markdown",
      "metadata": {
        "id": "view-in-github",
        "colab_type": "text"
      },
      "source": [
        "<a href=\"https://colab.research.google.com/github/karldeguzman32/Pyrates-AIDA/blob/main/58025_Pyrates_Revisiting_Python.ipynb\" target=\"_parent\"><img src=\"https://colab.research.google.com/assets/colab-badge.svg\" alt=\"Open In Colab\"/></a>"
      ]
    },
    {
      "cell_type": "markdown",
      "metadata": {
        "id": "nYGy0gzd2GDm"
      },
      "source": [
        "# **Welcome to the Pyrate Ship, Ahoy!** 🏴‍☠️\r\n",
        "![pyrate](https://github.com/karldeguzman32/Pyrates-AIDA/blob/main/Pyrate.png?raw=true)\r\n",
        "##***Pirate Crew*** 🦜\r\n",
        "#####Captain: Karl Adrian de Guzman\r\n",
        "Quartermasters: \r\n",
        "Ed Mark David, Lino Carlo Gamban, Khent Harvey Lachica\r\n",
        "\r\n",
        "---\r\n",
        "\r\n",
        "\r\n",
        "\r\n"
      ]
    },
    {
      "cell_type": "markdown",
      "metadata": {
        "id": "KGDgo_2yAKKc"
      },
      "source": [
        "#***Lecture Deck*** 📜\r\n",
        "\r\n",
        "\r\n",
        "---\r\n",
        "\r\n",
        "\r\n"
      ]
    },
    {
      "cell_type": "markdown",
      "metadata": {
        "id": "QnAdk8hy7Bl9"
      },
      "source": [
        "# Welcome to Python Fundamentals\r\n",
        "In this module, we are going to establish or review our skills in Python programming. In this notebook we are going to cover:\r\n",
        "* Variables and Data Types \r\n",
        "* Operations\r\n",
        "* Input and Output Operations\r\n",
        "* Logic Control\r\n",
        "* Iterables\r\n",
        "* Functions"
      ]
    },
    {
      "cell_type": "markdown",
      "metadata": {
        "id": "T6ABRAjTT1Ta"
      },
      "source": [
        "## Variable and Data Types\r\n",
        "Variables are used to store data values"
      ]
    },
    {
      "cell_type": "code",
      "metadata": {
        "id": "G8JI3DTZ616F",
        "colab": {
          "base_uri": "https://localhost:8080/"
        },
        "outputId": "1eff68ee-0881-413b-adc8-f9325b51b314"
      },
      "source": [
        "#assigning a variable\r\n",
        "shoe = 'adidas' \r\n",
        "#knowing the data type\r\n",
        "type(shoe)\r\n",
        "#printing the variable\r\n",
        "shoe\r\n",
        "print(f\"I love wearing my {shoe}\")"
      ],
      "execution_count": null,
      "outputs": [
        {
          "output_type": "stream",
          "text": [
            "I love wearing my adidas\n"
          ],
          "name": "stdout"
        }
      ]
    },
    {
      "cell_type": "code",
      "metadata": {
        "id": "TR_rvX4SUWqx",
        "colab": {
          "base_uri": "https://localhost:8080/"
        },
        "outputId": "c985ce35-82ae-44c2-e121-fdd7523914a9"
      },
      "source": [
        "number = 23\r\n",
        "type(number)"
      ],
      "execution_count": null,
      "outputs": [
        {
          "output_type": "execute_result",
          "data": {
            "text/plain": [
              "int"
            ]
          },
          "metadata": {
            "tags": []
          },
          "execution_count": 12
        }
      ]
    },
    {
      "cell_type": "code",
      "metadata": {
        "id": "FqV2upOiXcnC",
        "colab": {
          "base_uri": "https://localhost:8080/"
        },
        "outputId": "8f53387b-71b0-49ee-e227-94299d33828d"
      },
      "source": [
        "#converting the data type\r\n",
        "string_number = str(number)\r\n",
        "type(string_number)"
      ],
      "execution_count": null,
      "outputs": [
        {
          "output_type": "execute_result",
          "data": {
            "text/plain": [
              "str"
            ]
          },
          "metadata": {
            "tags": []
          },
          "execution_count": 15
        }
      ]
    },
    {
      "cell_type": "code",
      "metadata": {
        "id": "2tuyqwmyXiDb",
        "colab": {
          "base_uri": "https://localhost:8080/"
        },
        "outputId": "a1d05ea2-c4e9-49a7-a7bc-b992d494498e"
      },
      "source": [
        "#assigning multiple variable\r\n",
        "str, int, bool = 'Hello', 10, True\r\n",
        "print(f'{str}, {int}, {bool}')"
      ],
      "execution_count": null,
      "outputs": [
        {
          "output_type": "stream",
          "text": [
            "Hello, 10, True\n"
          ],
          "name": "stdout"
        }
      ]
    },
    {
      "cell_type": "markdown",
      "metadata": {
        "id": "9RgPwQR4YVG5"
      },
      "source": [
        "## Operations"
      ]
    },
    {
      "cell_type": "markdown",
      "metadata": {
        "id": "mvoS_zuJYbsg"
      },
      "source": [
        "### Arithmetic"
      ]
    },
    {
      "cell_type": "code",
      "metadata": {
        "id": "DSjUO0KcYoE-"
      },
      "source": [
        "#assigning value to the variable\r\n",
        "z,x,c,v = 7, 25, 37, 5"
      ],
      "execution_count": null,
      "outputs": []
    },
    {
      "cell_type": "code",
      "metadata": {
        "id": "o_kk0XFzYX9o"
      },
      "source": [
        "#Adding operation\r\n",
        "A = z+c\r\n",
        "A"
      ],
      "execution_count": null,
      "outputs": []
    },
    {
      "cell_type": "code",
      "metadata": {
        "id": "TC5oFq3MY4jk"
      },
      "source": [
        "#Subtracting variable\r\n",
        "S = x-c\r\n",
        "S"
      ],
      "execution_count": null,
      "outputs": []
    },
    {
      "cell_type": "code",
      "metadata": {
        "id": "j0bGayj5Y9wr"
      },
      "source": [
        "#Multiplying variable\r\n",
        "M = x*v\r\n",
        "M"
      ],
      "execution_count": null,
      "outputs": []
    },
    {
      "cell_type": "code",
      "metadata": {
        "id": "FnMWmq5LZLEU"
      },
      "source": [
        "### Division\r\n",
        "Q = c/a\r\n",
        "Q"
      ],
      "execution_count": null,
      "outputs": []
    },
    {
      "cell_type": "code",
      "metadata": {
        "id": "cQeVcFIWZd8o"
      },
      "source": [
        "### Floor Division\r\n",
        "Fq = a//b\r\n",
        "Fq"
      ],
      "execution_count": null,
      "outputs": []
    },
    {
      "cell_type": "code",
      "metadata": {
        "id": "YLaUu6APZSzR"
      },
      "source": [
        "### Exponentiation\r\n",
        "E = a**b\r\n",
        "E"
      ],
      "execution_count": null,
      "outputs": []
    },
    {
      "cell_type": "code",
      "metadata": {
        "id": "uf_0sf4CZ1JT"
      },
      "source": [
        "### Modulo\r\n",
        "mod = d%a\r\n",
        "mod"
      ],
      "execution_count": null,
      "outputs": []
    },
    {
      "cell_type": "code",
      "metadata": {
        "colab": {
          "base_uri": "https://localhost:8080/"
        },
        "id": "gy5MK3EzWFwr",
        "outputId": "3fb80b38-d936-4122-e511-584300967d32"
      },
      "source": [
        "#Multiple Operations\r\n",
        "a, b, c, d = 5, 10, 15, 20\r\n",
        "ans = ((a+b) * (d-c))/a\r\n",
        "ans"
      ],
      "execution_count": null,
      "outputs": [
        {
          "output_type": "execute_result",
          "data": {
            "text/plain": [
              "15.0"
            ]
          },
          "metadata": {
            "tags": []
          },
          "execution_count": 10
        }
      ]
    },
    {
      "cell_type": "markdown",
      "metadata": {
        "id": "afyWvb1ZaJJ6"
      },
      "source": [
        "### Assignment Operations"
      ]
    },
    {
      "cell_type": "code",
      "metadata": {
        "colab": {
          "base_uri": "https://localhost:8080/"
        },
        "id": "pbDQdxtevIN7",
        "outputId": "25478a0d-6440-435b-b2bc-d55626c8adb1"
      },
      "source": [
        "#Addition Assignment Operator\r\n",
        "L , M = 1, 1\r\n",
        "L += M\r\n",
        "L"
      ],
      "execution_count": null,
      "outputs": [
        {
          "output_type": "execute_result",
          "data": {
            "text/plain": [
              "2"
            ]
          },
          "metadata": {
            "tags": []
          },
          "execution_count": 1
        }
      ]
    },
    {
      "cell_type": "code",
      "metadata": {
        "colab": {
          "base_uri": "https://localhost:8080/"
        },
        "id": "hhyHDRLJvJsh",
        "outputId": "1b1e3f47-ee0d-41d9-97c8-c727e5f7e611"
      },
      "source": [
        "#Subtraction Assignment Operator\r\n",
        "N , P = 5, 2\r\n",
        "N -= P\r\n",
        "N"
      ],
      "execution_count": null,
      "outputs": [
        {
          "output_type": "execute_result",
          "data": {
            "text/plain": [
              "3"
            ]
          },
          "metadata": {
            "tags": []
          },
          "execution_count": 2
        }
      ]
    },
    {
      "cell_type": "code",
      "metadata": {
        "colab": {
          "base_uri": "https://localhost:8080/"
        },
        "id": "vNnbgZISvL5c",
        "outputId": "3f42523a-ac78-410c-a832-13c7cafe3145"
      },
      "source": [
        "#Multiplication Assignment Operator\r\n",
        "M = 3\r\n",
        "M *= M\r\n",
        "M"
      ],
      "execution_count": null,
      "outputs": [
        {
          "output_type": "execute_result",
          "data": {
            "text/plain": [
              "9"
            ]
          },
          "metadata": {
            "tags": []
          },
          "execution_count": 4
        }
      ]
    },
    {
      "cell_type": "code",
      "metadata": {
        "colab": {
          "base_uri": "https://localhost:8080/"
        },
        "id": "RnKC7f7GvNgu",
        "outputId": "28313d7b-fe44-46cc-e496-40be63f8a9a4"
      },
      "source": [
        "#Exponential Assignment Operator\r\n",
        "P = 4\r\n",
        "P **= 2\r\n",
        "P"
      ],
      "execution_count": null,
      "outputs": [
        {
          "output_type": "execute_result",
          "data": {
            "text/plain": [
              "16"
            ]
          },
          "metadata": {
            "tags": []
          },
          "execution_count": 5
        }
      ]
    },
    {
      "cell_type": "code",
      "metadata": {
        "colab": {
          "base_uri": "https://localhost:8080/"
        },
        "id": "tddN21qpvQGp",
        "outputId": "e56b9f3b-f063-4b62-935a-a24fe11c3415"
      },
      "source": [
        "#Modulus Assignment Operator\r\n",
        "N = 2\r\n",
        "N %= 5\r\n",
        "N"
      ],
      "execution_count": null,
      "outputs": [
        {
          "output_type": "execute_result",
          "data": {
            "text/plain": [
              "2"
            ]
          },
          "metadata": {
            "tags": []
          },
          "execution_count": 8
        }
      ]
    },
    {
      "cell_type": "code",
      "metadata": {
        "colab": {
          "base_uri": "https://localhost:8080/"
        },
        "id": "ol43E2yKdehN",
        "outputId": "57afb0a5-dc0e-4d66-a07e-b0dab0602f8b"
      },
      "source": [
        "#Division Assignment Operator\r\n",
        "d1 , d2 = 12, 14\r\n",
        "d1 /= d2/7\r\n",
        "d1"
      ],
      "execution_count": null,
      "outputs": [
        {
          "output_type": "execute_result",
          "data": {
            "text/plain": [
              "6.0"
            ]
          },
          "metadata": {
            "tags": []
          },
          "execution_count": 23
        }
      ]
    },
    {
      "cell_type": "code",
      "metadata": {
        "colab": {
          "base_uri": "https://localhost:8080/"
        },
        "id": "NVYfYJxRvRkZ",
        "outputId": "0284cdcd-2298-41cc-9c12-e84af59db59e"
      },
      "source": [
        "#Floor Division Assignment Operator\r\n",
        "Q = 8\r\n",
        "Q //= 2\r\n",
        "Q"
      ],
      "execution_count": null,
      "outputs": [
        {
          "output_type": "execute_result",
          "data": {
            "text/plain": [
              "4"
            ]
          },
          "metadata": {
            "tags": []
          },
          "execution_count": 9
        }
      ]
    },
    {
      "cell_type": "markdown",
      "metadata": {
        "id": "UGXuqhVNbW7R"
      },
      "source": [
        "### Comparators"
      ]
    },
    {
      "cell_type": "code",
      "metadata": {
        "id": "Oj9xLaEaYeuY"
      },
      "source": [
        "#assigning a variable\r\n",
        "cmpr1, cmpr2, cmpr3 = 1, 2.0, \"1\"\r\n",
        "string1 = 'Hello World'\r\n",
        "string2 = 'hello world'"
      ],
      "execution_count": null,
      "outputs": []
    },
    {
      "cell_type": "code",
      "metadata": {
        "id": "GEXm6RSsbA8Q",
        "colab": {
          "base_uri": "https://localhost:8080/"
        },
        "outputId": "a93dfc0a-f64e-4962-c215-ca909001ee4a"
      },
      "source": [
        "#Equality Comparators\r\n",
        "cmpr1 == 1.0"
      ],
      "execution_count": null,
      "outputs": [
        {
          "output_type": "execute_result",
          "data": {
            "text/plain": [
              "True"
            ]
          },
          "metadata": {
            "tags": []
          },
          "execution_count": 33
        }
      ]
    },
    {
      "cell_type": "code",
      "metadata": {
        "colab": {
          "base_uri": "https://localhost:8080/"
        },
        "id": "Fyqw-uw23eNF",
        "outputId": "850c23bc-f8f2-47c0-dfe0-14b222fb4a13"
      },
      "source": [
        "string1 == string2"
      ],
      "execution_count": null,
      "outputs": [
        {
          "output_type": "execute_result",
          "data": {
            "text/plain": [
              "False"
            ]
          },
          "metadata": {
            "tags": []
          },
          "execution_count": 34
        }
      ]
    },
    {
      "cell_type": "code",
      "metadata": {
        "id": "SdHk_b58bZhD",
        "colab": {
          "base_uri": "https://localhost:8080/"
        },
        "outputId": "d1ae96fa-b1e2-41a1-eaed-205bdee74401"
      },
      "source": [
        "#Non-equality Comparators\r\n",
        "cmpr2 != 5\r\n",
        "cmpr1 != cmpr3"
      ],
      "execution_count": null,
      "outputs": [
        {
          "output_type": "execute_result",
          "data": {
            "text/plain": [
              "True"
            ]
          },
          "metadata": {
            "tags": []
          },
          "execution_count": 36
        }
      ]
    },
    {
      "cell_type": "code",
      "metadata": {
        "colab": {
          "base_uri": "https://localhost:8080/"
        },
        "id": "PcIvTrgHITjU",
        "outputId": "ca3efce3-a501-4041-a565-5cb51e89ec86"
      },
      "source": [
        "cmpr1 != cmpr3"
      ],
      "execution_count": null,
      "outputs": [
        {
          "output_type": "execute_result",
          "data": {
            "text/plain": [
              "True"
            ]
          },
          "metadata": {
            "tags": []
          },
          "execution_count": 40
        }
      ]
    },
    {
      "cell_type": "code",
      "metadata": {
        "colab": {
          "base_uri": "https://localhost:8080/"
        },
        "id": "OZxsynkn3jxh",
        "outputId": "3c6ad23e-ec12-476b-9641-952b95c33e47"
      },
      "source": [
        "string1 != string2"
      ],
      "execution_count": null,
      "outputs": [
        {
          "output_type": "execute_result",
          "data": {
            "text/plain": [
              "True"
            ]
          },
          "metadata": {
            "tags": []
          },
          "execution_count": 30
        }
      ]
    },
    {
      "cell_type": "code",
      "metadata": {
        "colab": {
          "base_uri": "https://localhost:8080/"
        },
        "id": "ULHDR9n0HkyX",
        "outputId": "2212729f-8061-4095-d95d-000e33d521d6"
      },
      "source": [
        "cmpr4 = 1\r\n",
        "cmpr4 >= 2\r\n"
      ],
      "execution_count": null,
      "outputs": [
        {
          "output_type": "execute_result",
          "data": {
            "text/plain": [
              "False"
            ]
          },
          "metadata": {
            "tags": []
          },
          "execution_count": 50
        }
      ]
    },
    {
      "cell_type": "code",
      "metadata": {
        "colab": {
          "base_uri": "https://localhost:8080/"
        },
        "id": "5Kn58_oyKBbZ",
        "outputId": "66e434a4-d8fe-4637-e28e-09dce117bbfc"
      },
      "source": [
        "cmpr4 <= 1"
      ],
      "execution_count": null,
      "outputs": [
        {
          "output_type": "execute_result",
          "data": {
            "text/plain": [
              "True"
            ]
          },
          "metadata": {
            "tags": []
          },
          "execution_count": 47
        }
      ]
    },
    {
      "cell_type": "code",
      "metadata": {
        "colab": {
          "base_uri": "https://localhost:8080/"
        },
        "id": "cwQO0oPCKMnT",
        "outputId": "7ba2868c-3e2e-40d8-ec68-f042fcca65de"
      },
      "source": [
        "cmpr4 > 1"
      ],
      "execution_count": null,
      "outputs": [
        {
          "output_type": "execute_result",
          "data": {
            "text/plain": [
              "False"
            ]
          },
          "metadata": {
            "tags": []
          },
          "execution_count": 49
        }
      ]
    },
    {
      "cell_type": "code",
      "metadata": {
        "colab": {
          "base_uri": "https://localhost:8080/"
        },
        "id": "GNEIaVXXKT4m",
        "outputId": "e1035baa-d791-4f07-b96c-08acda84c5c4"
      },
      "source": [
        "cmpr4 < cmpr2"
      ],
      "execution_count": null,
      "outputs": [
        {
          "output_type": "execute_result",
          "data": {
            "text/plain": [
              "True"
            ]
          },
          "metadata": {
            "tags": []
          },
          "execution_count": 53
        }
      ]
    },
    {
      "cell_type": "markdown",
      "metadata": {
        "id": "9WkfdvbfcC1Y"
      },
      "source": [
        "### Logical"
      ]
    },
    {
      "cell_type": "code",
      "metadata": {
        "id": "ccCtjI7wDdDl"
      },
      "source": [
        "j = True\r\n",
        "k = False"
      ],
      "execution_count": null,
      "outputs": []
    },
    {
      "cell_type": "code",
      "metadata": {
        "colab": {
          "base_uri": "https://localhost:8080/"
        },
        "id": "R-5YMslAEFiK",
        "outputId": "b8c576ad-723a-4cc5-dd1a-0bf8023b5b1d"
      },
      "source": [
        "#Logical AND\r\n",
        "and1 = j and k\r\n",
        "print(\"j and k is: \", and1)"
      ],
      "execution_count": null,
      "outputs": [
        {
          "output_type": "stream",
          "text": [
            "j and k is:  False\n"
          ],
          "name": "stdout"
        }
      ]
    },
    {
      "cell_type": "code",
      "metadata": {
        "colab": {
          "base_uri": "https://localhost:8080/"
        },
        "id": "PDFSBW8aEvX1",
        "outputId": "65a5a0db-cc61-43ad-9345-d3fd3c860fdb"
      },
      "source": [
        "#Logical OR\r\n",
        "or1 = j or k\r\n",
        "print(\"j or k is: \", or1)"
      ],
      "execution_count": null,
      "outputs": [
        {
          "output_type": "stream",
          "text": [
            "j or k is:  True\n"
          ],
          "name": "stdout"
        }
      ]
    },
    {
      "cell_type": "code",
      "metadata": {
        "colab": {
          "base_uri": "https://localhost:8080/"
        },
        "id": "4S9yZJF_E-vz",
        "outputId": "2569ab6b-7bb0-4f07-d4e2-1bae6f7ac490"
      },
      "source": [
        "#Logical NOT\r\n",
        "not1 = j is not k\r\n",
        "print(\"j not k is: \", not1)"
      ],
      "execution_count": null,
      "outputs": [
        {
          "output_type": "stream",
          "text": [
            "j not k is:  True\n"
          ],
          "name": "stdout"
        }
      ]
    },
    {
      "cell_type": "code",
      "metadata": {
        "colab": {
          "base_uri": "https://localhost:8080/"
        },
        "id": "n0O8zPCsGCzi",
        "outputId": "2ec5b9d3-1adc-4d90-83cf-254e7b2174cf"
      },
      "source": [
        "#The condition is True and False, therefore it is False\r\n",
        "j1 = 5\r\n",
        "j2 = '5'\r\n",
        "jj = j1==5 and j2==5\r\n",
        "jj"
      ],
      "execution_count": null,
      "outputs": [
        {
          "output_type": "execute_result",
          "data": {
            "text/plain": [
              "False"
            ]
          },
          "metadata": {
            "tags": []
          },
          "execution_count": 25
        }
      ]
    },
    {
      "cell_type": "markdown",
      "metadata": {
        "id": "AQx4DKafYffJ"
      },
      "source": [
        "### I/O"
      ]
    },
    {
      "cell_type": "code",
      "metadata": {
        "colab": {
          "base_uri": "https://localhost:8080/"
        },
        "id": "6TafzGsNKyGn",
        "outputId": "f94a5a1b-02d7-4201-ee07-555eda16da81"
      },
      "source": [
        "name = 'Ed Mark David'\r\n",
        "print(\"My name is\", name,\"! Nice to meet you!\")"
      ],
      "execution_count": null,
      "outputs": [
        {
          "output_type": "stream",
          "text": [
            "My name is Ed Mark David ! Nice to meet you!\n"
          ],
          "name": "stdout"
        }
      ]
    },
    {
      "cell_type": "code",
      "metadata": {
        "colab": {
          "base_uri": "https://localhost:8080/"
        },
        "id": "3nvT5m6uMTNs",
        "outputId": "7ef758ae-0f94-497e-d773-dd206e8e2167"
      },
      "source": [
        "rating = 8.58\r\n",
        "print(\"My rating is {:.2} for the movie Godzilla: King of the Monsters\".format(rating))"
      ],
      "execution_count": null,
      "outputs": [
        {
          "output_type": "stream",
          "text": [
            "My rating is 8.6 for the movie Godzilla: King of the Monsters\n"
          ],
          "name": "stdout"
        }
      ]
    },
    {
      "cell_type": "code",
      "metadata": {
        "colab": {
          "base_uri": "https://localhost:8080/"
        },
        "id": "YEnmGDGSfybv",
        "outputId": "ab14157f-5ed0-4055-fa1c-3fe3a44ce3a0"
      },
      "source": [
        "#eDPI calculator\r\n",
        "name = input(\"Your name: \")\r\n",
        "dpi = float(input(\"Your DPI: \"))\r\n",
        "ig_sense = float(input(\"Your In-game sensitivity: \"))\r\n",
        "e_dpi = float(dpi*ig_sense)\r\n",
        "\r\n",
        "print(\"Hello {}! your eDPI is: {}\".format(name,e_dpi))"
      ],
      "execution_count": null,
      "outputs": [
        {
          "output_type": "stream",
          "text": [
            "Your name: Ed\n",
            "Your DPI: 800\n",
            "Your In-game sensitivity: 0.614\n",
            "Hello Ed! your eDPI is: 491.2\n"
          ],
          "name": "stdout"
        }
      ]
    },
    {
      "cell_type": "markdown",
      "metadata": {
        "id": "i0g3EothhvqL"
      },
      "source": [
        "# Looping Statements"
      ]
    },
    {
      "cell_type": "markdown",
      "metadata": {
        "id": "j4w90VAIjcFJ"
      },
      "source": [
        "## While"
      ]
    },
    {
      "cell_type": "code",
      "metadata": {
        "id": "4vtSrBPThlse",
        "colab": {
          "base_uri": "https://localhost:8080/"
        },
        "outputId": "7177253b-e525-4ce8-a873-85474194fbf0"
      },
      "source": [
        "## Counting backwards using While loop\r\n",
        "count = 10\r\n",
        "while count>0:\r\n",
        "  print(count)\r\n",
        "  count = count - 1"
      ],
      "execution_count": null,
      "outputs": [
        {
          "output_type": "stream",
          "text": [
            "10\n",
            "9\n",
            "8\n",
            "7\n",
            "6\n",
            "5\n",
            "4\n",
            "3\n",
            "2\n",
            "1\n"
          ],
          "name": "stdout"
        }
      ]
    },
    {
      "cell_type": "code",
      "metadata": {
        "colab": {
          "base_uri": "https://localhost:8080/"
        },
        "id": "Atmw_wJ4wsM6",
        "outputId": "4d843990-40ed-4f25-dcd5-784a2e8f5c8b"
      },
      "source": [
        "## Counting forward using While loop\r\n",
        "count = 1\r\n",
        "while count<11:\r\n",
        "  print(count)\r\n",
        "  count = count + 1"
      ],
      "execution_count": null,
      "outputs": [
        {
          "output_type": "stream",
          "text": [
            "1\n",
            "2\n",
            "3\n",
            "4\n",
            "5\n",
            "6\n",
            "7\n",
            "8\n",
            "9\n",
            "10\n"
          ],
          "name": "stdout"
        }
      ]
    },
    {
      "cell_type": "markdown",
      "metadata": {
        "id": "Qz6AH6jRjfUg"
      },
      "source": [
        "## For"
      ]
    },
    {
      "cell_type": "code",
      "metadata": {
        "id": "q0DUwfRkjZY7",
        "colab": {
          "base_uri": "https://localhost:8080/"
        },
        "outputId": "598c22c6-966f-49c2-9c62-0eb1cde6b40f"
      },
      "source": [
        "## Counting backwards using For loop\r\n",
        "for count in range(10,0,-1):\r\n",
        "  print(count)"
      ],
      "execution_count": null,
      "outputs": [
        {
          "output_type": "stream",
          "text": [
            "10\n",
            "9\n",
            "8\n",
            "7\n",
            "6\n",
            "5\n",
            "4\n",
            "3\n",
            "2\n",
            "1\n"
          ],
          "name": "stdout"
        }
      ]
    },
    {
      "cell_type": "code",
      "metadata": {
        "colab": {
          "base_uri": "https://localhost:8080/"
        },
        "id": "gK1ZiBqmxffn",
        "outputId": "623a998d-39a0-4761-a0e8-c7a1dacb3c3a"
      },
      "source": [
        "## Counting forward using For loop\r\n",
        "for count in range(1, 11):\r\n",
        "  print(count)"
      ],
      "execution_count": null,
      "outputs": [
        {
          "output_type": "stream",
          "text": [
            "1\n",
            "2\n",
            "3\n",
            "4\n",
            "5\n",
            "6\n",
            "7\n",
            "8\n",
            "9\n",
            "10\n"
          ],
          "name": "stdout"
        }
      ]
    },
    {
      "cell_type": "markdown",
      "metadata": {
        "id": "N6jTqTZojnSg"
      },
      "source": [
        "# Flow Control"
      ]
    },
    {
      "cell_type": "markdown",
      "metadata": {
        "id": "uhnsV2CijrWQ"
      },
      "source": [
        "## Condition Statements"
      ]
    },
    {
      "cell_type": "code",
      "metadata": {
        "id": "seJplrJojmTg",
        "colab": {
          "base_uri": "https://localhost:8080/"
        },
        "outputId": "c23635c0-9b92-4625-99eb-e81b76a40575"
      },
      "source": [
        "grade = 90\r\n",
        "if(grade > 70):\r\n",
        "    print (\"Passed\")\r\n",
        "elif(grade < 70):\r\n",
        "    print (\"Failed\")\r\n",
        "else:\r\n",
        "  print(\"Passing\")"
      ],
      "execution_count": null,
      "outputs": [
        {
          "output_type": "stream",
          "text": [
            "Passed\n"
          ],
          "name": "stdout"
        }
      ]
    },
    {
      "cell_type": "code",
      "metadata": {
        "id": "hoBkVn_QpNoR",
        "colab": {
          "base_uri": "https://localhost:8080/"
        },
        "outputId": "bd867e1b-077a-4b3b-9fba-1f0d093bd7ce"
      },
      "source": [
        "#Conditional Statement with input output\r\n",
        "grade = int(input(\"What is your final grade?\"))\r\n",
        "x = grade\r\n",
        "if(x > 70):\r\n",
        "    print (\"Passed\")\r\n",
        "elif(x < 70):\r\n",
        "    print (\"Failed\")\r\n",
        "else:\r\n",
        "  print(\"Passing\")"
      ],
      "execution_count": null,
      "outputs": [
        {
          "output_type": "stream",
          "text": [
            "What is your final grade?68\n",
            "Failed\n"
          ],
          "name": "stdout"
        }
      ]
    },
    {
      "cell_type": "markdown",
      "metadata": {
        "id": "tlnG1OKilNLo"
      },
      "source": [
        "# Functions"
      ]
    },
    {
      "cell_type": "code",
      "metadata": {
        "id": "1iMUEipnlUKY",
        "colab": {
          "base_uri": "https://localhost:8080/"
        },
        "outputId": "cb03ae26-d966-4ac8-d56a-01366a46a684"
      },
      "source": [
        "#creating a function using def keyword and following proper indentation\r\n",
        "hp = 50\r\n",
        "def add_hp ():\r\n",
        "  global hp\r\n",
        "  hp += 50\r\n",
        "  print(f\"Successfully added hp, Current hp: {hp}\")\r\n",
        "\r\n",
        "print(hp)\r\n",
        "add_hp()"
      ],
      "execution_count": null,
      "outputs": [
        {
          "output_type": "stream",
          "text": [
            "50\n",
            "Successfully added hp, Current hp: 100\n"
          ],
          "name": "stdout"
        }
      ]
    },
    {
      "cell_type": "code",
      "metadata": {
        "id": "v_TkrftylUEA",
        "colab": {
          "base_uri": "https://localhost:8080/"
        },
        "outputId": "f65d438a-2e80-46c2-a14e-092d3a5c9248"
      },
      "source": [
        "#function with input\r\n",
        "def create_character(name):\r\n",
        "  print(f\"your character name is {name}\")\r\n",
        "\r\n",
        "create_character('Leep')"
      ],
      "execution_count": null,
      "outputs": [
        {
          "output_type": "stream",
          "text": [
            "your character name is Leep\n"
          ],
          "name": "stdout"
        }
      ]
    },
    {
      "cell_type": "markdown",
      "metadata": {
        "id": "2_tDT01oFEGQ"
      },
      "source": [
        "### Lambda Functions"
      ]
    },
    {
      "cell_type": "code",
      "metadata": {
        "colab": {
          "base_uri": "https://localhost:8080/"
        },
        "id": "cHd86j5uloRC",
        "outputId": "520bb4b1-9c63-4986-93bd-19a877707692"
      },
      "source": [
        "add = lambda u, v: u + v\r\n",
        "print(add(2,2))"
      ],
      "execution_count": null,
      "outputs": [
        {
          "output_type": "stream",
          "text": [
            "4\n"
          ],
          "name": "stdout"
        }
      ]
    },
    {
      "cell_type": "code",
      "metadata": {
        "colab": {
          "base_uri": "https://localhost:8080/"
        },
        "id": "Tei4_F6unFLg",
        "outputId": "49b0da76-4ef5-452e-f0b3-1e18f240e830"
      },
      "source": [
        "stringl = \"Hello World\" \r\n",
        "(lambda stringl : print(stringl))(stringl)"
      ],
      "execution_count": null,
      "outputs": [
        {
          "output_type": "stream",
          "text": [
            "Hello World\n"
          ],
          "name": "stdout"
        }
      ]
    },
    {
      "cell_type": "code",
      "metadata": {
        "colab": {
          "base_uri": "https://localhost:8080/"
        },
        "id": "-5YMd1oXu6a1",
        "outputId": "4a8c8a12-9b72-4449-ff1b-e0153461fc96"
      },
      "source": [
        "elements = [1, 2, 3, 4, 5, 6, 7, 8, 9]\r\n",
        "ch = filter(lambda s: s>5, elements)\r\n",
        "print(list(ch))"
      ],
      "execution_count": null,
      "outputs": [
        {
          "output_type": "stream",
          "text": [
            "[6, 7, 8, 9]\n"
          ],
          "name": "stdout"
        }
      ]
    },
    {
      "cell_type": "code",
      "metadata": {
        "colab": {
          "base_uri": "https://localhost:8080/"
        },
        "id": "bMqQf0-Dr2t1",
        "outputId": "a5b3a3b6-0706-447d-ad4a-2d7b0a8aa0ea"
      },
      "source": [
        "prodi = input(\"Product Item: \")\r\n",
        "t1 = float(input(\"Price: \"))\r\n",
        "t2 = float(input(\"Quantity: \"))\r\n",
        "\r\n",
        "total = lambda t1, t2 : t1 * t2\r\n",
        "(lambda prodi: print(prodi))\r\n",
        "(prodi)\r\n",
        "\r\n",
        "print(\"Total: {}php\".format(total(t1, t2)))\r\n"
      ],
      "execution_count": null,
      "outputs": [
        {
          "output_type": "stream",
          "text": [
            "Product Item: Coke\n",
            "Price: 30\n",
            "Quantity: 2\n",
            "Total: 60.0php\n"
          ],
          "name": "stdout"
        }
      ]
    },
    {
      "cell_type": "markdown",
      "metadata": {
        "id": "PPgVZ-nd0KEt"
      },
      "source": [
        "#***Assignment Deck*** ⚓\r\n",
        "\r\n",
        "---\r\n",
        "\r\n",
        "\r\n",
        "\r\n",
        "\r\n"
      ]
    },
    {
      "cell_type": "markdown",
      "metadata": {
        "id": "cUjyOu530XAY"
      },
      "source": [
        "Create a grade calculator that computes for the semestral grade of a course.\r\n",
        "Students could type their names, the name of the course, then their prelim,\r\n",
        "midterm, and final grade.\r\n",
        "The program should print the semestral grade in 2 decimal points and should\r\n",
        "display the following emojis depending on the situation:\r\n",
        "happy - when grade is greater than 70.00\r\n",
        "laughing - when grade is exactly 70.00\r\n",
        "sad - when grade is below 70.00"
      ]
    },
    {
      "cell_type": "markdown",
      "metadata": {
        "id": "iAaHjmK80auE"
      },
      "source": [
        "#Solution"
      ]
    },
    {
      "cell_type": "code",
      "metadata": {
        "colab": {
          "base_uri": "https://localhost:8080/"
        },
        "id": "YZO9qH45FAHB",
        "outputId": "4cbd91c8-6d45-4d9e-8685-87d5e75d9ab7"
      },
      "source": [
        "#emoticons\r\n",
        "happy_face, lol_face, sad_face = \"\\U0001F600\",\"\\U0001F923\",\"\\U0001F619\"\r\n",
        "\r\n",
        "print(\"Grade Calculator\")\r\n",
        "\r\n",
        "#student input\r\n",
        "student_name = input(\"Enter your name: \")\r\n",
        "student_course = input(\"Enter your course: \")\r\n",
        "prelim_grade = float(input(\"Enter your prelim grade: \"))\r\n",
        "midterm_grade = float(input(\"Enter your midterm grade: \"))\r\n",
        "final_grade = float(input(\"Enter your final grade: \"))\r\n",
        "\r\n",
        "\r\n",
        "#computing the semestral grade\r\n",
        "semestral_grade = round((prelim_grade * .30) + (midterm_grade *.30) + (final_grade *.40), 2)\r\n",
        "\r\n",
        "#output\r\n",
        "if(semestral_grade < 70):\r\n",
        "  print(f\"Hello {student_name}, your semestral grade for this term is {semestral_grade} as a {student_course} student. Do not give up! {sad_face}\")\r\n",
        "elif(semestral_grade > 70):\r\n",
        "  print(f\"Hello {student_name}, your semestral grade for this term is {semestral_grade} as a {student_course} student. Congratulations! {happy_face}\")\r\n",
        "elif(semestral_grade == 70):\r\n",
        "  print(f\"Hello {student_name}, your semestral grade for this term is {semestral_grade} as a {student_course} student. You made it! {lol_face}\")\r\n"
      ],
      "execution_count": null,
      "outputs": [
        {
          "output_type": "stream",
          "text": [
            "Grade Calculator\n",
            "Enter your name: karl\n",
            "Enter your course: cpe\n",
            "Enter your prelim grade: 95.412\n",
            "Enter your midterm grade: 90.1244\n",
            "Enter your final grade: 93.2002\n",
            "Hello karl, your semestral grade for this term is 92.94 as a cpe student. Congratulations! 😀\n"
          ],
          "name": "stdout"
        }
      ]
    }
  ]
}